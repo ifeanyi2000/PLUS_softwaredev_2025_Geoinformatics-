{
 "cells": [
  {
   "cell_type": "code",
   "execution_count": null,
   "id": "7ba2cd8e-50a4-4851-8f85-034462414441",
   "metadata": {},
   "outputs": [],
   "source": [
    "from A4_functions import *"
   ]
  },
  {
   "cell_type": "markdown",
   "id": "676cc4a7-da95-4c1b-82f6-d90e93af9a10",
   "metadata": {},
   "source": [
    "We now want to apply the first function, dailyplot, to plot the average temperature and minimal temperature in Salzburg in year 2013"
   ]
  },
  {
   "cell_type": "code",
   "execution_count": 2,
   "id": "ccb6d6ff-747c-493a-a060-12621ce13a1d",
   "metadata": {},
   "outputs": [
    {
     "ename": "NameError",
     "evalue": "name 'dailyplot' is not defined",
     "output_type": "error",
     "traceback": [
      "\u001b[1;31m---------------------------------------------------------------------------\u001b[0m",
      "\u001b[1;31mNameError\u001b[0m                                 Traceback (most recent call last)",
      "Cell \u001b[1;32mIn[2], line 1\u001b[0m\n\u001b[1;32m----> 1\u001b[0m dailyplot(coord,[\u001b[38;5;241m2013\u001b[39m,\u001b[38;5;241m1\u001b[39m,\u001b[38;5;241m1\u001b[39m],[\u001b[38;5;241m2013\u001b[39m,\u001b[38;5;241m12\u001b[39m,\u001b[38;5;241m31\u001b[39m],[\u001b[38;5;124m'\u001b[39m\u001b[38;5;124mtavg\u001b[39m\u001b[38;5;124m'\u001b[39m,\u001b[38;5;124m'\u001b[39m\u001b[38;5;124mtmin\u001b[39m\u001b[38;5;124m'\u001b[39m])\n",
      "\u001b[1;31mNameError\u001b[0m: name 'dailyplot' is not defined"
     ]
    }
   ],
   "source": [
    "dailyplot((47.792,13.0477),[2013,1,1],[2013,12,31],['tavg','tmin'])"
   ]
  },
  {
   "cell_type": "markdown",
   "id": "4b7e7a59-cf9a-4f83-9c9c-bd17194aa84c",
   "metadata": {},
   "source": [
    "In the next step, we want to use the date times more elegantly. We search for the closest 100 stations around Salzburg. The distance to Salzburg is added to the data"
   ]
  },
  {
   "cell_type": "code",
   "execution_count": null,
   "id": "c78a5846-1533-45d5-a1c9-1ca2cca373e2",
   "metadata": {},
   "outputs": [],
   "source": [
    "start = datetime(2023, 1, 1)\n",
    "end = datetime(2023, 12, 31)\n",
    "coord=(47.792,13.0477)\n",
    "closest_stations(coord,100,start,end)"
   ]
  },
  {
   "cell_type": "markdown",
   "id": "9c03e194-8d79-4f6a-a459-ce19268dce25",
   "metadata": {},
   "source": [
    "Lastly, we want to see how the climate in Salzburg has changed from 1961-1990 compared to 1991-2020:"
   ]
  },
  {
   "cell_type": "code",
   "execution_count": null,
   "id": "243f8134-1a73-46ed-99a3-c71a6cddc5c7",
   "metadata": {},
   "outputs": [],
   "source": [
    "temperature_dev(coord,1961,1991)"
   ]
  }
 ],
 "metadata": {
  "kernelspec": {
   "display_name": "Python 3 (ipykernel)",
   "language": "python",
   "name": "python3"
  },
  "language_info": {
   "codemirror_mode": {
    "name": "ipython",
    "version": 3
   },
   "file_extension": ".py",
   "mimetype": "text/x-python",
   "name": "python",
   "nbconvert_exporter": "python",
   "pygments_lexer": "ipython3",
   "version": "3.11.7"
  }
 },
 "nbformat": 4,
 "nbformat_minor": 5
}
